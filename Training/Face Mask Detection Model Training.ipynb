{
 "cells": [
  {
   "cell_type": "code",
   "execution_count": 1,
   "metadata": {
    "execution": {
     "iopub.execute_input": "2020-08-10T11:28:52.645764Z",
     "iopub.status.busy": "2020-08-10T11:28:52.645026Z",
     "iopub.status.idle": "2020-08-10T11:28:58.856526Z",
     "shell.execute_reply": "2020-08-10T11:28:58.855460Z"
    },
    "id": "3TubfkW1FUjT",
    "papermill": {
     "duration": 6.225379,
     "end_time": "2020-08-10T11:28:58.856687",
     "exception": false,
     "start_time": "2020-08-10T11:28:52.631308",
     "status": "completed"
    },
    "tags": []
   },
   "outputs": [],
   "source": [
    "import numpy as np\n",
    "import matplotlib.pyplot as plt\n",
    "import tensorflow as tf\n",
    "from tensorflow.keras import Sequential\n",
    "from tensorflow.keras import layers"
   ]
  },
  {
   "cell_type": "code",
   "execution_count": 2,
   "metadata": {
    "execution": {
     "iopub.execute_input": "2020-08-10T11:28:58.883801Z",
     "iopub.status.busy": "2020-08-10T11:28:58.882488Z",
     "iopub.status.idle": "2020-08-10T11:28:58.900825Z",
     "shell.execute_reply": "2020-08-10T11:28:58.900273Z"
    },
    "id": "YhVW535JFUjc",
    "papermill": {
     "duration": 0.033343,
     "end_time": "2020-08-10T11:28:58.900926",
     "exception": false,
     "start_time": "2020-08-10T11:28:58.867583",
     "status": "completed"
    },
    "tags": []
   },
   "outputs": [],
   "source": [
    "data = np.load('data.npy')"
   ]
  },
  {
   "cell_type": "code",
   "execution_count": 3,
   "metadata": {
    "execution": {
     "iopub.execute_input": "2020-08-10T11:28:58.940530Z",
     "iopub.status.busy": "2020-08-10T11:28:58.938425Z",
     "iopub.status.idle": "2020-08-10T11:28:58.943677Z",
     "shell.execute_reply": "2020-08-10T11:28:58.943075Z"
    },
    "id": "5uV8fcdAFUji",
    "papermill": {
     "duration": 0.032534,
     "end_time": "2020-08-10T11:28:58.943827",
     "exception": false,
     "start_time": "2020-08-10T11:28:58.911293",
     "status": "completed"
    },
    "tags": []
   },
   "outputs": [
    {
     "data": {
      "text/plain": [
       "array([[1., 0.],\n",
       "       [1., 0.],\n",
       "       [1., 0.],\n",
       "       ...,\n",
       "       [0., 1.],\n",
       "       [0., 1.],\n",
       "       [0., 1.]], dtype=float32)"
      ]
     },
     "execution_count": 3,
     "metadata": {},
     "output_type": "execute_result"
    }
   ],
   "source": [
    "target = np.load('target.npy')\n",
    "target = tf.keras.utils.to_categorical(target)\n",
    "target"
   ]
  },
  {
   "cell_type": "code",
   "execution_count": 4,
   "metadata": {
    "execution": {
     "iopub.execute_input": "2020-08-10T11:28:58.974760Z",
     "iopub.status.busy": "2020-08-10T11:28:58.973763Z",
     "iopub.status.idle": "2020-08-10T11:28:59.190138Z",
     "shell.execute_reply": "2020-08-10T11:28:59.190664Z"
    },
    "id": "hVUgdrhpFUjq",
    "outputId": "48624fbd-8615-4b99-c498-582e2ea05771",
    "papermill": {
     "duration": 0.234775,
     "end_time": "2020-08-10T11:28:59.190851",
     "exception": false,
     "start_time": "2020-08-10T11:28:58.956076",
     "status": "completed"
    },
    "tags": []
   },
   "outputs": [
    {
     "data": {
      "text/plain": [
       "<matplotlib.image.AxesImage at 0x23cfd9fff70>"
      ]
     },
     "execution_count": 4,
     "metadata": {},
     "output_type": "execute_result"
    },
    {
     "data": {
      "image/png": "[encoded data removed]",
      "text/plain": [
       "<Figure size 432x288 with 1 Axes>"
      ]
     },
     "metadata": {
      "needs_background": "light"
     },
     "output_type": "display_data"
    }
   ],
   "source": [
    "plt.imshow(data[890],cmap='gray')"
   ]
  },
  {
   "cell_type": "code",
   "execution_count": 5,
   "metadata": {
    "execution": {
     "iopub.execute_input": "2020-08-10T11:28:59.225156Z",
     "iopub.status.busy": "2020-08-10T11:28:59.224294Z",
     "iopub.status.idle": "2020-08-10T11:28:59.228297Z",
     "shell.execute_reply": "2020-08-10T11:28:59.228775Z"
    },
    "id": "vz5A9GHeFUjy",
    "outputId": "dbedef1f-aab0-4b77-cc65-964478dde915",
    "papermill": {
     "duration": 0.023596,
     "end_time": "2020-08-10T11:28:59.228909",
     "exception": false,
     "start_time": "2020-08-10T11:28:59.205313",
     "status": "completed"
    },
    "tags": []
   },
   "outputs": [
    {
     "data": {
      "text/plain": [
       "array([0., 1.], dtype=float32)"
      ]
     },
     "execution_count": 5,
     "metadata": {},
     "output_type": "execute_result"
    }
   ],
   "source": [
    "target[890]"
   ]
  },
  {
   "cell_type": "code",
   "execution_count": 6,
   "metadata": {
    "execution": {
     "iopub.execute_input": "2020-08-10T11:28:59.286685Z",
     "iopub.status.busy": "2020-08-10T11:28:59.286058Z",
     "iopub.status.idle": "2020-08-10T11:29:03.514271Z",
     "shell.execute_reply": "2020-08-10T11:29:03.513578Z"
    },
    "id": "QVby0qqES9uB",
    "papermill": {
     "duration": 4.246878,
     "end_time": "2020-08-10T11:29:03.514414",
     "exception": false,
     "start_time": "2020-08-10T11:28:59.267536",
     "status": "completed"
    },
    "tags": []
   },
   "outputs": [],
   "source": [
    "\n",
    "odata = data.copy()\n",
    "ndata = []\n",
    "for i in odata:\n",
    "    image = i.reshape((*i.shape,1)) \n",
    "    image = tf.convert_to_tensor(image)  \n",
    "    ndata.append(tf.image.grayscale_to_rgb(image).numpy()/255.)\n",
    "\n",
    "data = ndata.copy()"
   ]
  },
  {
   "cell_type": "code",
   "execution_count": 7,
   "metadata": {
    "execution": {
     "iopub.execute_input": "2020-08-10T11:29:03.544238Z",
     "iopub.status.busy": "2020-08-10T11:29:03.543471Z",
     "iopub.status.idle": "2020-08-10T11:29:04.304301Z",
     "shell.execute_reply": "2020-08-10T11:29:04.303622Z"
    },
    "id": "yD6qXxDDFUj3",
    "papermill": {
     "duration": 0.776963,
     "end_time": "2020-08-10T11:29:04.304438",
     "exception": false,
     "start_time": "2020-08-10T11:29:03.527475",
     "status": "completed"
    },
    "tags": []
   },
   "outputs": [],
   "source": [
    "from sklearn.model_selection import train_test_split"
   ]
  },
  {
   "cell_type": "code",
   "execution_count": 8,
   "metadata": {
    "execution": {
     "iopub.execute_input": "2020-08-10T11:29:04.337783Z",
     "iopub.status.busy": "2020-08-10T11:29:04.336325Z",
     "iopub.status.idle": "2020-08-10T11:29:04.373914Z",
     "shell.execute_reply": "2020-08-10T11:29:04.374407Z"
    },
    "id": "fWd1uXIjfa4q",
    "outputId": "bcd8bbe2-7e34-42a8-f52d-faf50a7b225d",
    "papermill": {
     "duration": 0.056152,
     "end_time": "2020-08-10T11:29:04.374558",
     "exception": false,
     "start_time": "2020-08-10T11:29:04.318406",
     "status": "completed"
    },
    "tags": []
   },
   "outputs": [
    {
     "data": {
      "text/plain": [
       "(1651, 50, 50, 3)"
      ]
     },
     "execution_count": 8,
     "metadata": {},
     "output_type": "execute_result"
    }
   ],
   "source": [
    "np.shape(data)"
   ]
  },
  {
   "cell_type": "code",
   "execution_count": 9,
   "metadata": {
    "execution": {
     "iopub.execute_input": "2020-08-10T11:29:04.411416Z",
     "iopub.status.busy": "2020-08-10T11:29:04.410003Z",
     "iopub.status.idle": "2020-08-10T11:29:04.448072Z",
     "shell.execute_reply": "2020-08-10T11:29:04.447438Z"
    },
    "id": "syYZfg4jFUj9",
    "papermill": {
     "duration": 0.060041,
     "end_time": "2020-08-10T11:29:04.448194",
     "exception": false,
     "start_time": "2020-08-10T11:29:04.388153",
     "status": "completed"
    },
    "tags": []
   },
   "outputs": [],
   "source": [
    "trainx, testx, trainy, testy = train_test_split(data,\n",
    "                                                target,\n",
    "                                                test_size=0.15,\n",
    "                                                random_state=345,\n",
    "                                                shuffle=True)\n",
    "\n",
    "trainx = np.array(trainx)\n",
    "testx = np.array(testx)"
   ]
  },
  {
   "cell_type": "code",
   "execution_count": 10,
   "metadata": {
    "execution": {
     "iopub.execute_input": "2020-08-10T11:29:04.480030Z",
     "iopub.status.busy": "2020-08-10T11:29:04.479128Z",
     "iopub.status.idle": "2020-08-10T11:29:04.483424Z",
     "shell.execute_reply": "2020-08-10T11:29:04.482824Z"
    },
    "id": "c9d9noDxi-JL",
    "outputId": "c5d2bd63-376b-48c8-b8cd-d28892ba155f",
    "papermill": {
     "duration": 0.022305,
     "end_time": "2020-08-10T11:29:04.483539",
     "exception": false,
     "start_time": "2020-08-10T11:29:04.461234",
     "status": "completed"
    },
    "tags": []
   },
   "outputs": [
    {
     "data": {
      "text/plain": [
       "(1403, 2)"
      ]
     },
     "execution_count": 10,
     "metadata": {},
     "output_type": "execute_result"
    }
   ],
   "source": [
    "trainy.shape"
   ]
  },
  {
   "cell_type": "code",
   "execution_count": 11,
   "metadata": {
    "execution": {
     "iopub.execute_input": "2020-08-10T11:29:04.523305Z",
     "iopub.status.busy": "2020-08-10T11:29:04.522315Z",
     "iopub.status.idle": "2020-08-10T11:29:05.763264Z",
     "shell.execute_reply": "2020-08-10T11:29:05.763762Z"
    },
    "papermill": {
     "duration": 1.266326,
     "end_time": "2020-08-10T11:29:05.763925",
     "exception": false,
     "start_time": "2020-08-10T11:29:04.497599",
     "status": "completed"
    },
    "tags": []
   },
   "outputs": [
    {
     "data": {
      "image/png": "[encoded data removed]",
      "text/plain": [
       "<Figure size 2160x2160 with 9 Axes>"
      ]
     },
     "metadata": {
      "needs_background": "light"
     },
     "output_type": "display_data"
    }
   ],
   "source": [
    "plt.figure(figsize=[30,30])\n",
    "for i in np.arange(1,10):\n",
    "    plt.subplot(int(f\"19{i}\"))\n",
    "    plt.imshow(trainx[np.random.randint(0,1403)], cmap='gray')"
   ]
  },
  {
   "cell_type": "code",
   "execution_count": 12,
   "metadata": {
    "execution": {
     "iopub.execute_input": "2020-08-10T11:29:05.804778Z",
     "iopub.status.busy": "2020-08-10T11:29:05.798977Z",
     "iopub.status.idle": "2020-08-10T11:29:06.262612Z",
     "shell.execute_reply": "2020-08-10T11:29:06.263106Z"
    },
    "papermill": {
     "duration": 0.485342,
     "end_time": "2020-08-10T11:29:06.263251",
     "exception": false,
     "start_time": "2020-08-10T11:29:05.777909",
     "status": "completed"
    },
    "tags": []
   },
   "outputs": [
    {
     "data": {
      "text/plain": [
       "<matplotlib.image.AxesImage at 0x23c8cc0f340>"
      ]
     },
     "execution_count": 12,
     "metadata": {},
     "output_type": "execute_result"
    },
    {
     "data": {
      "image/png": "[encoded data removed]",
      "text/plain": [
       "<Figure size 432x288 with 4 Axes>"
      ]
     },
     "metadata": {
      "needs_background": "light"
     },
     "output_type": "display_data"
    }
   ],
   "source": [
    "plt.subplot(221)\n",
    "plt.imshow(trainx[np.random.randint(0,1440)], cmap='gray')\n",
    "plt.subplot(222)\n",
    "plt.imshow(trainx[np.random.randint(0,1440)], cmap='gray')\n",
    "plt.subplot(223)\n",
    "plt.imshow(trainx[np.random.randint(0,1440)], cmap='gray')\n",
    "plt.subplot(224)\n",
    "plt.imshow(trainx[np.random.randint(0,1440)], cmap='gray')"
   ]
  },
  {
   "cell_type": "code",
   "execution_count": 13,
   "metadata": {
    "execution": {
     "iopub.execute_input": "2020-08-10T11:29:06.298448Z",
     "iopub.status.busy": "2020-08-10T11:29:06.297478Z",
     "iopub.status.idle": "2020-08-10T11:29:06.301229Z",
     "shell.execute_reply": "2020-08-10T11:29:06.301762Z"
    },
    "id": "DMRnTYkhFUkI",
    "outputId": "bdf06bba-4428-4750-c576-ff6d5c641813",
    "papermill": {
     "duration": 0.023994,
     "end_time": "2020-08-10T11:29:06.301913",
     "exception": false,
     "start_time": "2020-08-10T11:29:06.277919",
     "status": "completed"
    },
    "tags": []
   },
   "outputs": [
    {
     "data": {
      "text/plain": [
       "array([0., 1.], dtype=float32)"
      ]
     },
     "execution_count": 13,
     "metadata": {},
     "output_type": "execute_result"
    }
   ],
   "source": [
    "trainy[0]"
   ]
  },
  {
   "cell_type": "code",
   "execution_count": 14,
   "metadata": {
    "execution": {
     "iopub.execute_input": "2020-08-10T11:29:06.334881Z",
     "iopub.status.busy": "2020-08-10T11:29:06.334053Z",
     "iopub.status.idle": "2020-08-10T11:29:06.337943Z",
     "shell.execute_reply": "2020-08-10T11:29:06.337390Z"
    },
    "id": "2rMskuhCFUkU",
    "outputId": "f9e8ad1f-da5d-47ca-e2fd-ea56ab21e004",
    "papermill": {
     "duration": 0.021952,
     "end_time": "2020-08-10T11:29:06.338052",
     "exception": false,
     "start_time": "2020-08-10T11:29:06.316100",
     "status": "completed"
    },
    "tags": []
   },
   "outputs": [
    {
     "data": {
      "text/plain": [
       "(50, 50, 3)"
      ]
     },
     "execution_count": 14,
     "metadata": {},
     "output_type": "execute_result"
    }
   ],
   "source": [
    "img_shape = trainx[0].shape\n",
    "img_shape  "
   ]
  },
  {
   "cell_type": "code",
   "execution_count": 15,
   "metadata": {
    "execution": {
     "iopub.execute_input": "2020-08-10T11:29:06.380257Z",
     "iopub.status.busy": "2020-08-10T11:29:06.379571Z",
     "iopub.status.idle": "2020-08-10T11:29:06.587725Z",
     "shell.execute_reply": "2020-08-10T11:29:06.587140Z"
    },
    "papermill": {
     "duration": 0.235106,
     "end_time": "2020-08-10T11:29:06.587873",
     "exception": false,
     "start_time": "2020-08-10T11:29:06.352767",
     "status": "completed"
    },
    "tags": []
   },
   "outputs": [],
   "source": [
    "model=Sequential()\n",
    "\n",
    "model.add(layers.Conv2D(32,(3,3),input_shape=img_shape))\n",
    "model.add(layers.MaxPooling2D(pool_size=(2,2)))\n",
    "\n",
    "model.add(layers.Conv2D(64,(3,3)))\n",
    "model.add(layers.Activation('relu'))\n",
    "model.add(layers.MaxPooling2D(pool_size=(2,2)))\n",
    "\n",
    "model.add(layers.Conv2D(128,(3,3)))\n",
    "model.add(layers.Activation('relu'))\n",
    "model.add(layers.MaxPooling2D(pool_size=(2,2)))\n",
    "\n",
    "model.add(layers.Conv2D(256,(3,3)))\n",
    "model.add(layers.Activation('relu'))\n",
    "model.add(layers.MaxPooling2D(pool_size=(2,2)))\n",
    "\n",
    "\n",
    "model.add(layers.Flatten())\n",
    "model.add(layers.Dropout(0.5))\n",
    "model.add(layers.Dense(64,activation='relu'))\n",
    "model.add(layers.Dropout(0.4))\n",
    "\n",
    "model.add(layers.Dense(2,activation='softmax'))\n",
    "\n",
    "\n",
    "\n",
    "adam = tf.keras.optimizers.Adam(0.001)\n",
    "model.compile(loss='categorical_crossentropy',optimizer=adam,metrics=['accuracy'])"
   ]
  },
  {
   "cell_type": "code",
   "execution_count": 16,
   "metadata": {
    "execution": {
     "iopub.execute_input": "2020-08-10T11:29:06.622600Z",
     "iopub.status.busy": "2020-08-10T11:29:06.620864Z",
     "iopub.status.idle": "2020-08-10T11:29:06.635184Z",
     "shell.execute_reply": "2020-08-10T11:29:06.635959Z"
    },
    "id": "1en0D6ZfFUkq",
    "outputId": "ca871995-582f-42b1-8bf5-2e8e5f3b44b1",
    "papermill": {
     "duration": 0.033715,
     "end_time": "2020-08-10T11:29:06.636140",
     "exception": false,
     "start_time": "2020-08-10T11:29:06.602425",
     "status": "completed"
    },
    "tags": []
   },
   "outputs": [
    {
     "name": "stdout",
     "output_type": "stream",
     "text": [
      "Model: \"sequential\"\n",
      "_________________________________________________________________\n",
      "Layer (type)                 Output Shape              Param #   \n",
      "=================================================================\n",
      "conv2d (Conv2D)              (None, 48, 48, 32)        896       \n",
      "_________________________________________________________________\n",
      "max_pooling2d (MaxPooling2D) (None, 24, 24, 32)        0         \n",
      "_________________________________________________________________\n",
      "conv2d_1 (Conv2D)            (None, 22, 22, 64)        18496     \n",
      "_________________________________________________________________\n",
      "activation (Activation)      (None, 22, 22, 64)        0         \n",
      "_________________________________________________________________\n",
      "max_pooling2d_1 (MaxPooling2 (None, 11, 11, 64)        0         \n",
      "_________________________________________________________________\n",
      "conv2d_2 (Conv2D)            (None, 9, 9, 128)         73856     \n",
      "_________________________________________________________________\n",
      "activation_1 (Activation)    (None, 9, 9, 128)         0         \n",
      "_________________________________________________________________\n",
      "max_pooling2d_2 (MaxPooling2 (None, 4, 4, 128)         0         \n",
      "_________________________________________________________________\n",
      "conv2d_3 (Conv2D)            (None, 2, 2, 256)         295168    \n",
      "_________________________________________________________________\n",
      "activation_2 (Activation)    (None, 2, 2, 256)         0         \n",
      "_________________________________________________________________\n",
      "max_pooling2d_3 (MaxPooling2 (None, 1, 1, 256)         0         \n",
      "_________________________________________________________________\n",
      "flatten (Flatten)            (None, 256)               0         \n",
      "_________________________________________________________________\n",
      "dropout (Dropout)            (None, 256)               0         \n",
      "_________________________________________________________________\n",
      "dense (Dense)                (None, 64)                16448     \n",
      "_________________________________________________________________\n",
      "dropout_1 (Dropout)          (None, 64)                0         \n",
      "_________________________________________________________________\n",
      "dense_1 (Dense)              (None, 2)                 130       \n",
      "=================================================================\n",
      "Total params: 404,994\n",
      "Trainable params: 404,994\n",
      "Non-trainable params: 0\n",
      "_________________________________________________________________\n"
     ]
    }
   ],
   "source": [
    "model.summary()"
   ]
  },
  {
   "cell_type": "code",
   "execution_count": null,
   "metadata": {
    "execution": {
     "iopub.execute_input": "2020-08-10T11:29:06.768261Z",
     "iopub.status.busy": "2020-08-10T11:29:06.767395Z",
     "iopub.status.idle": "2020-08-10T11:29:19.694854Z",
     "shell.execute_reply": "2020-08-10T11:29:19.694226Z"
    },
    "id": "t0KwoSsVFUk6",
    "outputId": "84dfd12d-59ca-4315-f38d-b9b1c53db53a",
    "papermill": {
     "duration": 12.957364,
     "end_time": "2020-08-10T11:29:19.694971",
     "exception": false,
     "start_time": "2020-08-10T11:29:06.737607",
     "status": "completed"
    },
    "scrolled": true,
    "tags": []
   },
   "outputs": [
    {
     "name": "stdout",
     "output_type": "stream",
     "text": [
      "Epoch 1/50\n",
      "12/12 - 8s - loss: 0.6835 - accuracy: 0.5508 - val_loss: 0.6721 - val_accuracy: 0.4840\n",
      "Epoch 2/50\n",
      "12/12 - 6s - loss: 0.6485 - accuracy: 0.6159 - val_loss: 0.6956 - val_accuracy: 0.4911\n",
      "Epoch 3/50\n",
      "12/12 - 7s - loss: 0.5804 - accuracy: 0.6988 - val_loss: 0.5090 - val_accuracy: 0.7189\n",
      "Epoch 4/50\n",
      "12/12 - 6s - loss: 0.4129 - accuracy: 0.8476 - val_loss: 0.3135 - val_accuracy: 0.8470\n",
      "Epoch 5/50\n",
      "12/12 - 6s - loss: 0.3234 - accuracy: 0.8699 - val_loss: 0.3961 - val_accuracy: 0.8292\n",
      "Epoch 6/50\n",
      "12/12 - 6s - loss: 0.3174 - accuracy: 0.8797 - val_loss: 0.2571 - val_accuracy: 0.8826\n",
      "Epoch 7/50\n",
      "12/12 - 5s - loss: 0.2344 - accuracy: 0.9135 - val_loss: 0.1689 - val_accuracy: 0.9431\n",
      "Epoch 8/50\n",
      "12/12 - 6s - loss: 0.1793 - accuracy: 0.9340 - val_loss: 0.1285 - val_accuracy: 0.9502\n",
      "Epoch 9/50\n",
      "12/12 - 6s - loss: 0.1765 - accuracy: 0.9305 - val_loss: 0.1510 - val_accuracy: 0.9395\n",
      "Epoch 10/50\n",
      "12/12 - 7s - loss: 0.1637 - accuracy: 0.9456 - val_loss: 0.1078 - val_accuracy: 0.9609\n",
      "Epoch 11/50\n",
      "12/12 - 9s - loss: 0.1357 - accuracy: 0.9581 - val_loss: 0.0924 - val_accuracy: 0.9751\n",
      "Epoch 12/50\n",
      "12/12 - 8s - loss: 0.1129 - accuracy: 0.9572 - val_loss: 0.1070 - val_accuracy: 0.9644\n",
      "Epoch 13/50\n",
      "12/12 - 7s - loss: 0.0999 - accuracy: 0.9635 - val_loss: 0.0898 - val_accuracy: 0.9644\n",
      "Epoch 14/50\n",
      "12/12 - 7s - loss: 0.1544 - accuracy: 0.9394 - val_loss: 0.0776 - val_accuracy: 0.9680\n",
      "Epoch 15/50\n",
      "12/12 - 7s - loss: 0.1183 - accuracy: 0.9635 - val_loss: 0.0890 - val_accuracy: 0.9715\n",
      "Epoch 16/50\n",
      "12/12 - 7s - loss: 0.1002 - accuracy: 0.9688 - val_loss: 0.0816 - val_accuracy: 0.9680\n",
      "Epoch 17/50\n",
      "12/12 - 6s - loss: 0.0815 - accuracy: 0.9679 - val_loss: 0.0807 - val_accuracy: 0.9609\n",
      "Epoch 18/50\n",
      "12/12 - 6s - loss: 0.0924 - accuracy: 0.9679 - val_loss: 0.0916 - val_accuracy: 0.9609\n",
      "Epoch 19/50\n",
      "12/12 - 6s - loss: 0.0565 - accuracy: 0.9822 - val_loss: 0.0856 - val_accuracy: 0.9644\n",
      "Epoch 20/50\n",
      "12/12 - 6s - loss: 0.0465 - accuracy: 0.9840 - val_loss: 0.0704 - val_accuracy: 0.9715\n",
      "Epoch 21/50\n",
      "12/12 - 7s - loss: 0.0426 - accuracy: 0.9875 - val_loss: 0.1103 - val_accuracy: 0.9609\n",
      "Epoch 22/50\n",
      "12/12 - 7s - loss: 0.0532 - accuracy: 0.9786 - val_loss: 0.0815 - val_accuracy: 0.9751\n",
      "Epoch 23/50\n",
      "12/12 - 7s - loss: 0.0351 - accuracy: 0.9884 - val_loss: 0.0721 - val_accuracy: 0.9751\n",
      "Epoch 24/50\n",
      "12/12 - 7s - loss: 0.0522 - accuracy: 0.9813 - val_loss: 0.1105 - val_accuracy: 0.9644\n",
      "Epoch 25/50\n",
      "12/12 - 7s - loss: 0.1095 - accuracy: 0.9537 - val_loss: 0.1672 - val_accuracy: 0.9359\n",
      "Epoch 26/50\n",
      "12/12 - 7s - loss: 0.0636 - accuracy: 0.9750 - val_loss: 0.1929 - val_accuracy: 0.9288\n",
      "Epoch 27/50\n",
      "12/12 - 7s - loss: 0.0427 - accuracy: 0.9857 - val_loss: 0.1296 - val_accuracy: 0.9644\n",
      "Epoch 28/50\n",
      "12/12 - 7s - loss: 0.0300 - accuracy: 0.9884 - val_loss: 0.0857 - val_accuracy: 0.9644\n",
      "Epoch 29/50\n",
      "12/12 - 7s - loss: 0.0172 - accuracy: 0.9929 - val_loss: 0.0878 - val_accuracy: 0.9786\n",
      "Epoch 30/50\n",
      "12/12 - 7s - loss: 0.0138 - accuracy: 0.9955 - val_loss: 0.0882 - val_accuracy: 0.9786\n",
      "Epoch 31/50\n"
     ]
    }
   ],
   "source": [
    "history = model.fit(x=trainx,\n",
    "                    y=trainy,\n",
    "                    batch_size=100,\n",
    "                    epochs=50,\n",
    "                    validation_split=0.2,\n",
    "                    verbose=2,\n",
    "                    shuffle=True)"
   ]
  },
  {
   "cell_type": "code",
   "execution_count": null,
   "metadata": {
    "execution": {
     "iopub.execute_input": "2020-08-10T11:29:19.984419Z",
     "iopub.status.busy": "2020-08-10T11:29:19.981225Z",
     "iopub.status.idle": "2020-08-10T11:29:20.143026Z",
     "shell.execute_reply": "2020-08-10T11:29:20.143539Z"
    },
    "id": "B6r7OCfrFUlH",
    "outputId": "01e52d57-3cb3-4951-cf81-9b3b55c0d4db",
    "papermill": {
     "duration": 0.195102,
     "end_time": "2020-08-10T11:29:20.143679",
     "exception": false,
     "start_time": "2020-08-10T11:29:19.948577",
     "status": "completed"
    },
    "tags": []
   },
   "outputs": [],
   "source": [
    "plt.plot(history.history['accuracy'])\n",
    "plt.plot(history.history['val_accuracy'])\n",
    "plt.legend(['accuracy', 'val_accuracy'])"
   ]
  },
  {
   "cell_type": "code",
   "execution_count": null,
   "metadata": {
    "execution": {
     "iopub.execute_input": "2020-08-10T11:29:20.204568Z",
     "iopub.status.busy": "2020-08-10T11:29:20.203252Z",
     "iopub.status.idle": "2020-08-10T11:29:20.440327Z",
     "shell.execute_reply": "2020-08-10T11:29:20.440872Z"
    },
    "id": "o7M3tMl_FUlM",
    "outputId": "ee7419e5-abec-4b2d-a939-9bdea39f2b50",
    "papermill": {
     "duration": 0.269106,
     "end_time": "2020-08-10T11:29:20.441039",
     "exception": false,
     "start_time": "2020-08-10T11:29:20.171933",
     "status": "completed"
    },
    "tags": []
   },
   "outputs": [],
   "source": [
    "model.evaluate(testx, testy)"
   ]
  },
  {
   "cell_type": "code",
   "execution_count": null,
   "metadata": {
    "execution": {
     "iopub.execute_input": "2020-08-10T11:29:20.492199Z",
     "iopub.status.busy": "2020-08-10T11:29:20.491285Z",
     "iopub.status.idle": "2020-08-10T11:29:21.926022Z",
     "shell.execute_reply": "2020-08-10T11:29:21.925227Z"
    },
    "id": "0AIN0a58G0XG",
    "papermill": {
     "duration": 1.462724,
     "end_time": "2020-08-10T11:29:21.926188",
     "exception": false,
     "start_time": "2020-08-10T11:29:20.463464",
     "status": "completed"
    },
    "tags": []
   },
   "outputs": [],
   "source": [
    "model.save('cnn.h5')"
   ]
  },
  {
   "cell_type": "code",
   "execution_count": null,
   "metadata": {},
   "outputs": [],
   "source": []
  }
 ],
 "metadata": {
  "kernelspec": {
   "display_name": "Python 3",
   "language": "python",
   "name": "python3"
  },
  "language_info": {
   "codemirror_mode": {
    "name": "ipython",
    "version": 3
   },
   "file_extension": ".py",
   "mimetype": "text/x-python",
   "name": "python",
   "nbconvert_exporter": "python",
   "pygments_lexer": "ipython3",
   "version": "3.8.3"
  },
  "papermill": {
   "duration": 35.946863,
   "end_time": "2020-08-10T11:29:23.939925",
   "environment_variables": {},
   "exception": null,
   "input_path": "__notebook__.ipynb",
   "output_path": "__notebook__.ipynb",
   "parameters": {},
   "start_time": "2020-08-10T11:28:47.993062",
   "version": "2.1.0"
  }
 },
 "nbformat": 4,
 "nbformat_minor": 4
}

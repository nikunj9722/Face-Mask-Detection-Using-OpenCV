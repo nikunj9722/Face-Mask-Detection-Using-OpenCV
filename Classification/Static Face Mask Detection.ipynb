{
 "cells": [
  {
   "cell_type": "code",
   "execution_count": null,
   "metadata": {},
   "outputs": [],
   "source": [
    "import tensorflow as tf\n",
    "from tensorflow import keras\n",
    "import cv2\n",
    "import matplotlib.pyplot as plt"
   ]
  },
  {
   "cell_type": "code",
   "execution_count": null,
   "metadata": {},
   "outputs": [],
   "source": [
    "model = keras.models.load_model(r'cnn.h5')"
   ]
  },
  {
   "cell_type": "code",
   "execution_count": null,
   "metadata": {},
   "outputs": [],
   "source": [
    "model"
   ]
  },
  {
   "cell_type": "code",
   "execution_count": null,
   "metadata": {},
   "outputs": [],
   "source": [
    "a = (50,50,3)\n",
    "b = [1,*a]\n",
    "b"
   ]
  },
  {
   "cell_type": "code",
   "execution_count": null,
   "metadata": {},
   "outputs": [],
   "source": [
    "img_path = 'masked_person.jpg'\n",
    "\n",
    "master_I= cv2.imread(img_path)\n",
    "master_I = cv2.cvtColor(master_I,cv2.COLOR_BGR2RGB)\n",
    "orig_image = cv2.cvtColor(master_I, cv2.COLOR_RGB2GRAY)\n",
    "image = cv2.resize(orig_image,(50,50))\n",
    "image = image.reshape((*image.shape,1)) \n",
    "image = tf.convert_to_tensor(image)  \n",
    "image = tf.image.grayscale_to_rgb(image).numpy()/255. \n",
    "\n",
    "final_image = image.reshape(1, *image.shape) \n",
    "\n",
    "plt.imshow(final_image[0],cmap='gray')"
   ]
  },
  {
   "cell_type": "code",
   "execution_count": null,
   "metadata": {},
   "outputs": [],
   "source": [
    "final_image[0].shape"
   ]
  },
  {
   "cell_type": "code",
   "execution_count": null,
   "metadata": {},
   "outputs": [],
   "source": [
    "model.predict(final_image)"
   ]
  },
  {
   "cell_type": "code",
   "execution_count": null,
   "metadata": {},
   "outputs": [],
   "source": [
    "is_mask = tf.math.argmax(model.predict(final_image),1).numpy()[0] \n",
    "is_mask"
   ]
  },
  {
   "cell_type": "code",
   "execution_count": null,
   "metadata": {},
   "outputs": [],
   "source": [
    "def mask(img):\n",
    "    if is_mask:\n",
    "        plt.imshow(cv2.putText(img,\n",
    "                    'Mask:Yes', (10,130),\n",
    "                    fontFace=cv2.FONT_HERSHEY_DUPLEX,\n",
    "                    fontScale=4,\n",
    "                    color=(0,100,0),thickness=7))\n",
    "    else:\n",
    "        plt.imshow(img)\n",
    "        \n",
    "mask(master_I)"
   ]
  },
  {
   "cell_type": "code",
   "execution_count": null,
   "metadata": {},
   "outputs": [],
   "source": []
  },
  {
   "cell_type": "code",
   "execution_count": null,
   "metadata": {},
   "outputs": [],
   "source": []
  }
 ],
 "metadata": {
  "kernelspec": {
   "display_name": "Python 3",
   "language": "python",
   "name": "python3"
  },
  "language_info": {
   "codemirror_mode": {
    "name": "ipython",
    "version": 3
   },
   "file_extension": ".py",
   "mimetype": "text/x-python",
   "name": "python",
   "nbconvert_exporter": "python",
   "pygments_lexer": "ipython3",
   "version": "3.8.3"
  }
 },
 "nbformat": 4,
 "nbformat_minor": 4
}
